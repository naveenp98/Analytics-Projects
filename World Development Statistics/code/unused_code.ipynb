{
 "cells": [
  {
   "cell_type": "code",
   "execution_count": null,
   "metadata": {},
   "outputs": [
    {
     "name": "stdout",
     "output_type": "stream",
     "text": [
      "118\n"
     ]
    }
   ],
   "source": [
    "# For the purpose of this analysis, records containing nulls will be dropped to provide a complete analysis \n",
    "# with the caveat that some countries' information may not be used\n",
    "\n",
    "# Countries that have missing data - \n",
    "\n",
    "gni_missing_set = set(country for country in gni['country'] if gni.loc[gni['country'] == country,].isna().sum().sum())\n",
    "hdi_missing_set = set(country for country in hdi['country'] if hdi.loc[hdi['country'] == country,].isna().sum().sum())\n",
    "le_missing_set = set(country for country in le['country'] if le.loc[le['country'] == country,].isna().sum().sum())\n",
    "\n",
    "# If merging data, the total number of omitted countries would be the union of all sets\n",
    "missing_countries = gni_missing_set.union(hdi_missing_set).union(le_missing_set)\n",
    "print(len(missing_countries))"
   ]
  }
 ],
 "metadata": {
  "language_info": {
   "name": "python"
  }
 },
 "nbformat": 4,
 "nbformat_minor": 2
}
