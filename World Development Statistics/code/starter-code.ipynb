{
 "cells": [
  {
   "cell_type": "code",
   "execution_count": 1,
   "metadata": {},
   "outputs": [],
   "source": [
    "# Imports:\n",
    "import pandas as pd\n",
    "import numpy as np\n",
    "import matplotlib.pyplot as plt\n",
    "import seaborn as sns"
   ]
  },
  {
   "cell_type": "code",
   "execution_count": 2,
   "metadata": {},
   "outputs": [
    {
     "data": {
      "text/plain": [
       "5000000000"
      ]
     },
     "execution_count": 2,
     "metadata": {},
     "output_type": "execute_result"
    }
   ],
   "source": [
    "# Function to convert large values to numeric:\n",
    "def convert(s):\n",
    "    multiplier = 1\n",
    "    if s[-1] in 'Kk':\n",
    "        multiplier = 1000\n",
    "        s = s[:-1]\n",
    "    elif s[-1] in 'Mm':\n",
    "        multiplier = 1000000\n",
    "        s = s[:-1]\n",
    "    elif s[-1] in 'Bb':\n",
    "        multiplier = 1000000000\n",
    "        s = s[:-1]\n",
    "\n",
    "    return int(float(s) * multiplier)\n",
    "    \n",
    "convert('5B')    "
   ]
  },
  {
   "cell_type": "code",
   "execution_count": 3,
   "metadata": {},
   "outputs": [],
   "source": [
    "# Assigning file paths \n",
    "filepath_gni = \"../data/gni_per_cap_atlas_method_con2021.csv\"\n",
    "filepath_hdi = '../data/hdi_human_development_index.csv'\n",
    "filepath_le = '../data/life_expectancy.csv'\n",
    "\n",
    "# Importing datasets to dataframes\n",
    "gni = pd.read_csv(filepath_gni)\n",
    "hdi = pd.read_csv(filepath_hdi)\n",
    "le = pd.read_csv(filepath_le)"
   ]
  },
  {
   "cell_type": "code",
   "execution_count": 4,
   "metadata": {},
   "outputs": [
    {
     "data": {
      "text/html": [
       "<div>\n",
       "<style scoped>\n",
       "    .dataframe tbody tr th:only-of-type {\n",
       "        vertical-align: middle;\n",
       "    }\n",
       "\n",
       "    .dataframe tbody tr th {\n",
       "        vertical-align: top;\n",
       "    }\n",
       "\n",
       "    .dataframe thead th {\n",
       "        text-align: right;\n",
       "    }\n",
       "</style>\n",
       "<table border=\"1\" class=\"dataframe\">\n",
       "  <thead>\n",
       "    <tr style=\"text-align: right;\">\n",
       "      <th></th>\n",
       "      <th>country</th>\n",
       "      <th>1800</th>\n",
       "      <th>1801</th>\n",
       "      <th>1802</th>\n",
       "      <th>1803</th>\n",
       "      <th>1804</th>\n",
       "      <th>1805</th>\n",
       "      <th>1806</th>\n",
       "      <th>1807</th>\n",
       "      <th>1808</th>\n",
       "      <th>...</th>\n",
       "      <th>2041</th>\n",
       "      <th>2042</th>\n",
       "      <th>2043</th>\n",
       "      <th>2044</th>\n",
       "      <th>2045</th>\n",
       "      <th>2046</th>\n",
       "      <th>2047</th>\n",
       "      <th>2048</th>\n",
       "      <th>2049</th>\n",
       "      <th>2050</th>\n",
       "    </tr>\n",
       "  </thead>\n",
       "  <tbody>\n",
       "    <tr>\n",
       "      <th>0</th>\n",
       "      <td>Afghanistan</td>\n",
       "      <td>207.0</td>\n",
       "      <td>207.0</td>\n",
       "      <td>207.0</td>\n",
       "      <td>207.0</td>\n",
       "      <td>207.0</td>\n",
       "      <td>207.0</td>\n",
       "      <td>207.0</td>\n",
       "      <td>207.0</td>\n",
       "      <td>207.0</td>\n",
       "      <td>...</td>\n",
       "      <td>751</td>\n",
       "      <td>767</td>\n",
       "      <td>783</td>\n",
       "      <td>800</td>\n",
       "      <td>817</td>\n",
       "      <td>834</td>\n",
       "      <td>852</td>\n",
       "      <td>870</td>\n",
       "      <td>888</td>\n",
       "      <td>907</td>\n",
       "    </tr>\n",
       "    <tr>\n",
       "      <th>1</th>\n",
       "      <td>Angola</td>\n",
       "      <td>517.0</td>\n",
       "      <td>519.0</td>\n",
       "      <td>522.0</td>\n",
       "      <td>524.0</td>\n",
       "      <td>525.0</td>\n",
       "      <td>528.0</td>\n",
       "      <td>531.0</td>\n",
       "      <td>533.0</td>\n",
       "      <td>536.0</td>\n",
       "      <td>...</td>\n",
       "      <td>2770</td>\n",
       "      <td>2830</td>\n",
       "      <td>2890</td>\n",
       "      <td>2950</td>\n",
       "      <td>3010</td>\n",
       "      <td>3080</td>\n",
       "      <td>3140</td>\n",
       "      <td>3210</td>\n",
       "      <td>3280</td>\n",
       "      <td>3340</td>\n",
       "    </tr>\n",
       "    <tr>\n",
       "      <th>2</th>\n",
       "      <td>Albania</td>\n",
       "      <td>207.0</td>\n",
       "      <td>207.0</td>\n",
       "      <td>207.0</td>\n",
       "      <td>207.0</td>\n",
       "      <td>207.0</td>\n",
       "      <td>207.0</td>\n",
       "      <td>207.0</td>\n",
       "      <td>207.0</td>\n",
       "      <td>207.0</td>\n",
       "      <td>...</td>\n",
       "      <td>9610</td>\n",
       "      <td>9820</td>\n",
       "      <td>10k</td>\n",
       "      <td>10.2k</td>\n",
       "      <td>10.5k</td>\n",
       "      <td>10.7k</td>\n",
       "      <td>10.9k</td>\n",
       "      <td>11.1k</td>\n",
       "      <td>11.4k</td>\n",
       "      <td>11.6k</td>\n",
       "    </tr>\n",
       "    <tr>\n",
       "      <th>3</th>\n",
       "      <td>United Arab Emirates</td>\n",
       "      <td>738.0</td>\n",
       "      <td>740.0</td>\n",
       "      <td>743.0</td>\n",
       "      <td>746.0</td>\n",
       "      <td>749.0</td>\n",
       "      <td>751.0</td>\n",
       "      <td>754.0</td>\n",
       "      <td>757.0</td>\n",
       "      <td>760.0</td>\n",
       "      <td>...</td>\n",
       "      <td>47.9k</td>\n",
       "      <td>48.9k</td>\n",
       "      <td>50k</td>\n",
       "      <td>51k</td>\n",
       "      <td>52.1k</td>\n",
       "      <td>53.2k</td>\n",
       "      <td>54.3k</td>\n",
       "      <td>55.5k</td>\n",
       "      <td>56.7k</td>\n",
       "      <td>57.9k</td>\n",
       "    </tr>\n",
       "    <tr>\n",
       "      <th>4</th>\n",
       "      <td>Argentina</td>\n",
       "      <td>794.0</td>\n",
       "      <td>797.0</td>\n",
       "      <td>799.0</td>\n",
       "      <td>802.0</td>\n",
       "      <td>805.0</td>\n",
       "      <td>808.0</td>\n",
       "      <td>810.0</td>\n",
       "      <td>813.0</td>\n",
       "      <td>816.0</td>\n",
       "      <td>...</td>\n",
       "      <td>12.8k</td>\n",
       "      <td>13.1k</td>\n",
       "      <td>13.4k</td>\n",
       "      <td>13.6k</td>\n",
       "      <td>13.9k</td>\n",
       "      <td>14.2k</td>\n",
       "      <td>14.5k</td>\n",
       "      <td>14.8k</td>\n",
       "      <td>15.2k</td>\n",
       "      <td>15.5k</td>\n",
       "    </tr>\n",
       "  </tbody>\n",
       "</table>\n",
       "<p>5 rows × 252 columns</p>\n",
       "</div>"
      ],
      "text/plain": [
       "                country   1800   1801   1802   1803   1804   1805   1806  \\\n",
       "0           Afghanistan  207.0  207.0  207.0  207.0  207.0  207.0  207.0   \n",
       "1                Angola  517.0  519.0  522.0  524.0  525.0  528.0  531.0   \n",
       "2               Albania  207.0  207.0  207.0  207.0  207.0  207.0  207.0   \n",
       "3  United Arab Emirates  738.0  740.0  743.0  746.0  749.0  751.0  754.0   \n",
       "4             Argentina  794.0  797.0  799.0  802.0  805.0  808.0  810.0   \n",
       "\n",
       "    1807   1808  ...   2041   2042   2043   2044   2045   2046   2047   2048  \\\n",
       "0  207.0  207.0  ...    751    767    783    800    817    834    852    870   \n",
       "1  533.0  536.0  ...   2770   2830   2890   2950   3010   3080   3140   3210   \n",
       "2  207.0  207.0  ...   9610   9820    10k  10.2k  10.5k  10.7k  10.9k  11.1k   \n",
       "3  757.0  760.0  ...  47.9k  48.9k    50k    51k  52.1k  53.2k  54.3k  55.5k   \n",
       "4  813.0  816.0  ...  12.8k  13.1k  13.4k  13.6k  13.9k  14.2k  14.5k  14.8k   \n",
       "\n",
       "    2049   2050  \n",
       "0    888    907  \n",
       "1   3280   3340  \n",
       "2  11.4k  11.6k  \n",
       "3  56.7k  57.9k  \n",
       "4  15.2k  15.5k  \n",
       "\n",
       "[5 rows x 252 columns]"
      ]
     },
     "execution_count": 4,
     "metadata": {},
     "output_type": "execute_result"
    }
   ],
   "source": [
    "# Printing first 5 records of GNI\n",
    "gni.head()"
   ]
  },
  {
   "cell_type": "code",
   "execution_count": 5,
   "metadata": {},
   "outputs": [
    {
     "data": {
      "text/html": [
       "<div>\n",
       "<style scoped>\n",
       "    .dataframe tbody tr th:only-of-type {\n",
       "        vertical-align: middle;\n",
       "    }\n",
       "\n",
       "    .dataframe tbody tr th {\n",
       "        vertical-align: top;\n",
       "    }\n",
       "\n",
       "    .dataframe thead th {\n",
       "        text-align: right;\n",
       "    }\n",
       "</style>\n",
       "<table border=\"1\" class=\"dataframe\">\n",
       "  <thead>\n",
       "    <tr style=\"text-align: right;\">\n",
       "      <th></th>\n",
       "      <th>country</th>\n",
       "      <th>1990</th>\n",
       "      <th>1991</th>\n",
       "      <th>1992</th>\n",
       "      <th>1993</th>\n",
       "      <th>1994</th>\n",
       "      <th>1995</th>\n",
       "      <th>1996</th>\n",
       "      <th>1997</th>\n",
       "      <th>1998</th>\n",
       "      <th>...</th>\n",
       "      <th>2012</th>\n",
       "      <th>2013</th>\n",
       "      <th>2014</th>\n",
       "      <th>2015</th>\n",
       "      <th>2016</th>\n",
       "      <th>2017</th>\n",
       "      <th>2018</th>\n",
       "      <th>2019</th>\n",
       "      <th>2020</th>\n",
       "      <th>2021</th>\n",
       "    </tr>\n",
       "  </thead>\n",
       "  <tbody>\n",
       "    <tr>\n",
       "      <th>0</th>\n",
       "      <td>Afghanistan</td>\n",
       "      <td>0.273</td>\n",
       "      <td>0.279</td>\n",
       "      <td>0.287</td>\n",
       "      <td>0.297</td>\n",
       "      <td>0.292</td>\n",
       "      <td>0.310</td>\n",
       "      <td>0.319</td>\n",
       "      <td>0.323</td>\n",
       "      <td>0.324</td>\n",
       "      <td>...</td>\n",
       "      <td>0.466</td>\n",
       "      <td>0.474</td>\n",
       "      <td>0.479</td>\n",
       "      <td>0.478</td>\n",
       "      <td>0.481</td>\n",
       "      <td>0.482</td>\n",
       "      <td>0.483</td>\n",
       "      <td>0.488</td>\n",
       "      <td>0.483</td>\n",
       "      <td>0.478</td>\n",
       "    </tr>\n",
       "    <tr>\n",
       "      <th>1</th>\n",
       "      <td>Angola</td>\n",
       "      <td>NaN</td>\n",
       "      <td>NaN</td>\n",
       "      <td>NaN</td>\n",
       "      <td>NaN</td>\n",
       "      <td>NaN</td>\n",
       "      <td>NaN</td>\n",
       "      <td>NaN</td>\n",
       "      <td>NaN</td>\n",
       "      <td>NaN</td>\n",
       "      <td>...</td>\n",
       "      <td>0.541</td>\n",
       "      <td>0.552</td>\n",
       "      <td>0.563</td>\n",
       "      <td>0.582</td>\n",
       "      <td>0.596</td>\n",
       "      <td>0.597</td>\n",
       "      <td>0.595</td>\n",
       "      <td>0.595</td>\n",
       "      <td>0.590</td>\n",
       "      <td>0.586</td>\n",
       "    </tr>\n",
       "    <tr>\n",
       "      <th>2</th>\n",
       "      <td>Albania</td>\n",
       "      <td>0.647</td>\n",
       "      <td>0.629</td>\n",
       "      <td>0.614</td>\n",
       "      <td>0.617</td>\n",
       "      <td>0.624</td>\n",
       "      <td>0.634</td>\n",
       "      <td>0.645</td>\n",
       "      <td>0.642</td>\n",
       "      <td>0.657</td>\n",
       "      <td>...</td>\n",
       "      <td>0.778</td>\n",
       "      <td>0.785</td>\n",
       "      <td>0.792</td>\n",
       "      <td>0.795</td>\n",
       "      <td>0.798</td>\n",
       "      <td>0.802</td>\n",
       "      <td>0.806</td>\n",
       "      <td>0.810</td>\n",
       "      <td>0.794</td>\n",
       "      <td>0.796</td>\n",
       "    </tr>\n",
       "    <tr>\n",
       "      <th>3</th>\n",
       "      <td>Andorra</td>\n",
       "      <td>NaN</td>\n",
       "      <td>NaN</td>\n",
       "      <td>NaN</td>\n",
       "      <td>NaN</td>\n",
       "      <td>NaN</td>\n",
       "      <td>NaN</td>\n",
       "      <td>NaN</td>\n",
       "      <td>NaN</td>\n",
       "      <td>NaN</td>\n",
       "      <td>...</td>\n",
       "      <td>0.869</td>\n",
       "      <td>0.864</td>\n",
       "      <td>0.871</td>\n",
       "      <td>0.867</td>\n",
       "      <td>0.871</td>\n",
       "      <td>0.868</td>\n",
       "      <td>0.872</td>\n",
       "      <td>0.873</td>\n",
       "      <td>0.848</td>\n",
       "      <td>0.858</td>\n",
       "    </tr>\n",
       "    <tr>\n",
       "      <th>4</th>\n",
       "      <td>UAE</td>\n",
       "      <td>0.728</td>\n",
       "      <td>0.739</td>\n",
       "      <td>0.742</td>\n",
       "      <td>0.748</td>\n",
       "      <td>0.755</td>\n",
       "      <td>0.762</td>\n",
       "      <td>0.767</td>\n",
       "      <td>0.773</td>\n",
       "      <td>0.779</td>\n",
       "      <td>...</td>\n",
       "      <td>0.846</td>\n",
       "      <td>0.852</td>\n",
       "      <td>0.859</td>\n",
       "      <td>0.865</td>\n",
       "      <td>0.870</td>\n",
       "      <td>0.897</td>\n",
       "      <td>0.909</td>\n",
       "      <td>0.920</td>\n",
       "      <td>0.912</td>\n",
       "      <td>0.911</td>\n",
       "    </tr>\n",
       "  </tbody>\n",
       "</table>\n",
       "<p>5 rows × 33 columns</p>\n",
       "</div>"
      ],
      "text/plain": [
       "       country   1990   1991   1992   1993   1994   1995   1996   1997   1998  \\\n",
       "0  Afghanistan  0.273  0.279  0.287  0.297  0.292  0.310  0.319  0.323  0.324   \n",
       "1       Angola    NaN    NaN    NaN    NaN    NaN    NaN    NaN    NaN    NaN   \n",
       "2      Albania  0.647  0.629  0.614  0.617  0.624  0.634  0.645  0.642  0.657   \n",
       "3      Andorra    NaN    NaN    NaN    NaN    NaN    NaN    NaN    NaN    NaN   \n",
       "4          UAE  0.728  0.739  0.742  0.748  0.755  0.762  0.767  0.773  0.779   \n",
       "\n",
       "   ...   2012   2013   2014   2015   2016   2017   2018   2019   2020   2021  \n",
       "0  ...  0.466  0.474  0.479  0.478  0.481  0.482  0.483  0.488  0.483  0.478  \n",
       "1  ...  0.541  0.552  0.563  0.582  0.596  0.597  0.595  0.595  0.590  0.586  \n",
       "2  ...  0.778  0.785  0.792  0.795  0.798  0.802  0.806  0.810  0.794  0.796  \n",
       "3  ...  0.869  0.864  0.871  0.867  0.871  0.868  0.872  0.873  0.848  0.858  \n",
       "4  ...  0.846  0.852  0.859  0.865  0.870  0.897  0.909  0.920  0.912  0.911  \n",
       "\n",
       "[5 rows x 33 columns]"
      ]
     },
     "execution_count": 5,
     "metadata": {},
     "output_type": "execute_result"
    }
   ],
   "source": [
    "# Printing first 5 records of HDI\n",
    "hdi.head()"
   ]
  },
  {
   "cell_type": "code",
   "execution_count": 6,
   "metadata": {},
   "outputs": [],
   "source": [
    "# Changing UAE to Uniter Arab Emirates to enable later merging\n",
    "hdi.loc[hdi['country']=='UAE', 'country'] = 'United Arab Emirates'"
   ]
  },
  {
   "cell_type": "code",
   "execution_count": 7,
   "metadata": {},
   "outputs": [
    {
     "data": {
      "text/html": [
       "<div>\n",
       "<style scoped>\n",
       "    .dataframe tbody tr th:only-of-type {\n",
       "        vertical-align: middle;\n",
       "    }\n",
       "\n",
       "    .dataframe tbody tr th {\n",
       "        vertical-align: top;\n",
       "    }\n",
       "\n",
       "    .dataframe thead th {\n",
       "        text-align: right;\n",
       "    }\n",
       "</style>\n",
       "<table border=\"1\" class=\"dataframe\">\n",
       "  <thead>\n",
       "    <tr style=\"text-align: right;\">\n",
       "      <th></th>\n",
       "      <th>country</th>\n",
       "      <th>1800</th>\n",
       "      <th>1801</th>\n",
       "      <th>1802</th>\n",
       "      <th>1803</th>\n",
       "      <th>1804</th>\n",
       "      <th>1805</th>\n",
       "      <th>1806</th>\n",
       "      <th>1807</th>\n",
       "      <th>1808</th>\n",
       "      <th>...</th>\n",
       "      <th>2091</th>\n",
       "      <th>2092</th>\n",
       "      <th>2093</th>\n",
       "      <th>2094</th>\n",
       "      <th>2095</th>\n",
       "      <th>2096</th>\n",
       "      <th>2097</th>\n",
       "      <th>2098</th>\n",
       "      <th>2099</th>\n",
       "      <th>2100</th>\n",
       "    </tr>\n",
       "  </thead>\n",
       "  <tbody>\n",
       "    <tr>\n",
       "      <th>0</th>\n",
       "      <td>Afghanistan</td>\n",
       "      <td>28.2</td>\n",
       "      <td>28.2</td>\n",
       "      <td>28.2</td>\n",
       "      <td>28.2</td>\n",
       "      <td>28.2</td>\n",
       "      <td>28.2</td>\n",
       "      <td>28.1</td>\n",
       "      <td>28.1</td>\n",
       "      <td>28.1</td>\n",
       "      <td>...</td>\n",
       "      <td>75.5</td>\n",
       "      <td>75.7</td>\n",
       "      <td>75.8</td>\n",
       "      <td>76.0</td>\n",
       "      <td>76.1</td>\n",
       "      <td>76.2</td>\n",
       "      <td>76.4</td>\n",
       "      <td>76.5</td>\n",
       "      <td>76.6</td>\n",
       "      <td>76.8</td>\n",
       "    </tr>\n",
       "    <tr>\n",
       "      <th>1</th>\n",
       "      <td>Angola</td>\n",
       "      <td>27.0</td>\n",
       "      <td>27.0</td>\n",
       "      <td>27.0</td>\n",
       "      <td>27.0</td>\n",
       "      <td>27.0</td>\n",
       "      <td>27.0</td>\n",
       "      <td>27.0</td>\n",
       "      <td>27.0</td>\n",
       "      <td>27.0</td>\n",
       "      <td>...</td>\n",
       "      <td>78.8</td>\n",
       "      <td>79.0</td>\n",
       "      <td>79.1</td>\n",
       "      <td>79.2</td>\n",
       "      <td>79.3</td>\n",
       "      <td>79.5</td>\n",
       "      <td>79.6</td>\n",
       "      <td>79.7</td>\n",
       "      <td>79.9</td>\n",
       "      <td>80.0</td>\n",
       "    </tr>\n",
       "    <tr>\n",
       "      <th>2</th>\n",
       "      <td>Albania</td>\n",
       "      <td>35.4</td>\n",
       "      <td>35.4</td>\n",
       "      <td>35.4</td>\n",
       "      <td>35.4</td>\n",
       "      <td>35.4</td>\n",
       "      <td>35.4</td>\n",
       "      <td>35.4</td>\n",
       "      <td>35.4</td>\n",
       "      <td>35.4</td>\n",
       "      <td>...</td>\n",
       "      <td>87.4</td>\n",
       "      <td>87.5</td>\n",
       "      <td>87.6</td>\n",
       "      <td>87.7</td>\n",
       "      <td>87.8</td>\n",
       "      <td>87.9</td>\n",
       "      <td>88.0</td>\n",
       "      <td>88.2</td>\n",
       "      <td>88.3</td>\n",
       "      <td>88.4</td>\n",
       "    </tr>\n",
       "    <tr>\n",
       "      <th>3</th>\n",
       "      <td>Andorra</td>\n",
       "      <td>NaN</td>\n",
       "      <td>NaN</td>\n",
       "      <td>NaN</td>\n",
       "      <td>NaN</td>\n",
       "      <td>NaN</td>\n",
       "      <td>NaN</td>\n",
       "      <td>NaN</td>\n",
       "      <td>NaN</td>\n",
       "      <td>NaN</td>\n",
       "      <td>...</td>\n",
       "      <td>NaN</td>\n",
       "      <td>NaN</td>\n",
       "      <td>NaN</td>\n",
       "      <td>NaN</td>\n",
       "      <td>NaN</td>\n",
       "      <td>NaN</td>\n",
       "      <td>NaN</td>\n",
       "      <td>NaN</td>\n",
       "      <td>NaN</td>\n",
       "      <td>NaN</td>\n",
       "    </tr>\n",
       "    <tr>\n",
       "      <th>4</th>\n",
       "      <td>United Arab Emirates</td>\n",
       "      <td>30.7</td>\n",
       "      <td>30.7</td>\n",
       "      <td>30.7</td>\n",
       "      <td>30.7</td>\n",
       "      <td>30.7</td>\n",
       "      <td>30.7</td>\n",
       "      <td>30.7</td>\n",
       "      <td>30.7</td>\n",
       "      <td>30.7</td>\n",
       "      <td>...</td>\n",
       "      <td>82.4</td>\n",
       "      <td>82.5</td>\n",
       "      <td>82.6</td>\n",
       "      <td>82.7</td>\n",
       "      <td>82.8</td>\n",
       "      <td>82.9</td>\n",
       "      <td>83.0</td>\n",
       "      <td>83.1</td>\n",
       "      <td>83.2</td>\n",
       "      <td>83.3</td>\n",
       "    </tr>\n",
       "  </tbody>\n",
       "</table>\n",
       "<p>5 rows × 302 columns</p>\n",
       "</div>"
      ],
      "text/plain": [
       "                country  1800  1801  1802  1803  1804  1805  1806  1807  1808  \\\n",
       "0           Afghanistan  28.2  28.2  28.2  28.2  28.2  28.2  28.1  28.1  28.1   \n",
       "1                Angola  27.0  27.0  27.0  27.0  27.0  27.0  27.0  27.0  27.0   \n",
       "2               Albania  35.4  35.4  35.4  35.4  35.4  35.4  35.4  35.4  35.4   \n",
       "3               Andorra   NaN   NaN   NaN   NaN   NaN   NaN   NaN   NaN   NaN   \n",
       "4  United Arab Emirates  30.7  30.7  30.7  30.7  30.7  30.7  30.7  30.7  30.7   \n",
       "\n",
       "   ...  2091  2092  2093  2094  2095  2096  2097  2098  2099  2100  \n",
       "0  ...  75.5  75.7  75.8  76.0  76.1  76.2  76.4  76.5  76.6  76.8  \n",
       "1  ...  78.8  79.0  79.1  79.2  79.3  79.5  79.6  79.7  79.9  80.0  \n",
       "2  ...  87.4  87.5  87.6  87.7  87.8  87.9  88.0  88.2  88.3  88.4  \n",
       "3  ...   NaN   NaN   NaN   NaN   NaN   NaN   NaN   NaN   NaN   NaN  \n",
       "4  ...  82.4  82.5  82.6  82.7  82.8  82.9  83.0  83.1  83.2  83.3  \n",
       "\n",
       "[5 rows x 302 columns]"
      ]
     },
     "execution_count": 7,
     "metadata": {},
     "output_type": "execute_result"
    }
   ],
   "source": [
    "# Printing first 5 records of LE\n",
    "le.head()"
   ]
  },
  {
   "cell_type": "code",
   "execution_count": 8,
   "metadata": {},
   "outputs": [
    {
     "data": {
      "text/plain": [
       "((191, 252), (195, 302), (191, 33))"
      ]
     },
     "execution_count": 8,
     "metadata": {},
     "output_type": "execute_result"
    }
   ],
   "source": [
    "gni.shape, le.shape, hdi.shape"
   ]
  },
  {
   "cell_type": "code",
   "execution_count": 9,
   "metadata": {},
   "outputs": [
    {
     "data": {
      "text/plain": [
       "(191, 191, 195)"
      ]
     },
     "execution_count": 9,
     "metadata": {},
     "output_type": "execute_result"
    }
   ],
   "source": [
    "# Checking total number of countries present in each dataset\n",
    "len(gni['country']), len(hdi['country']), len(le['country'])"
   ]
  },
  {
   "cell_type": "code",
   "execution_count": 10,
   "metadata": {},
   "outputs": [
    {
     "data": {
      "text/plain": [
       "country    0\n",
       "1800       1\n",
       "1801       1\n",
       "1802       1\n",
       "1803       1\n",
       "          ..\n",
       "2046       1\n",
       "2047       1\n",
       "2048       1\n",
       "2049       1\n",
       "2050       1\n",
       "Length: 252, dtype: int64"
      ]
     },
     "execution_count": 10,
     "metadata": {},
     "output_type": "execute_result"
    }
   ],
   "source": [
    "# Checking for missing values in GNI\n",
    "gni.isna().sum()"
   ]
  },
  {
   "cell_type": "code",
   "execution_count": 11,
   "metadata": {},
   "outputs": [
    {
     "data": {
      "text/plain": [
       "country     0\n",
       "1990       50\n",
       "1991       50\n",
       "1992       50\n",
       "1993       50\n",
       "1994       50\n",
       "1995       39\n",
       "1996       39\n",
       "1997       39\n",
       "1998       39\n",
       "1999       34\n",
       "2000       17\n",
       "2001       17\n",
       "2002       14\n",
       "2003       12\n",
       "2004       10\n",
       "2005        5\n",
       "2006        5\n",
       "2007        4\n",
       "2008        4\n",
       "2009        4\n",
       "2010        2\n",
       "2011        1\n",
       "2012        1\n",
       "2013        1\n",
       "2014        1\n",
       "2015        1\n",
       "2016        1\n",
       "2017        1\n",
       "2018        0\n",
       "2019        0\n",
       "2020        0\n",
       "2021        0\n",
       "dtype: int64"
      ]
     },
     "execution_count": 11,
     "metadata": {},
     "output_type": "execute_result"
    }
   ],
   "source": [
    "# Checking for missing values in HDI\n",
    "hdi.isna().sum()"
   ]
  },
  {
   "cell_type": "code",
   "execution_count": 12,
   "metadata": {},
   "outputs": [
    {
     "data": {
      "text/plain": [
       "country    0\n",
       "1800       9\n",
       "1801       9\n",
       "1802       9\n",
       "1803       9\n",
       "          ..\n",
       "2096       9\n",
       "2097       9\n",
       "2098       9\n",
       "2099       9\n",
       "2100       9\n",
       "Length: 302, dtype: int64"
      ]
     },
     "execution_count": 12,
     "metadata": {},
     "output_type": "execute_result"
    }
   ],
   "source": [
    "# Checking for missing values in LE\n",
    "le.isna().sum()"
   ]
  },
  {
   "cell_type": "code",
   "execution_count": 13,
   "metadata": {},
   "outputs": [],
   "source": [
    "# The datasets all should contain 1 object column (for country names) and remaining columns should be integers"
   ]
  },
  {
   "cell_type": "code",
   "execution_count": 14,
   "metadata": {},
   "outputs": [
    {
     "data": {
      "text/plain": [
       "Index(['country', '1897', '1898', '1899', '1900', '1901', '1902', '1903',\n",
       "       '1904', '1905',\n",
       "       ...\n",
       "       '2041', '2042', '2043', '2044', '2045', '2046', '2047', '2048', '2049',\n",
       "       '2050'],\n",
       "      dtype='object', length=155)"
      ]
     },
     "execution_count": 14,
     "metadata": {},
     "output_type": "execute_result"
    }
   ],
   "source": [
    "# Checking number of object types in GNI\n",
    "gni.select_dtypes('object').columns"
   ]
  },
  {
   "cell_type": "code",
   "execution_count": 15,
   "metadata": {},
   "outputs": [
    {
     "data": {
      "text/plain": [
       "Index(['country'], dtype='object')"
      ]
     },
     "execution_count": 15,
     "metadata": {},
     "output_type": "execute_result"
    }
   ],
   "source": [
    "# Checking number of object types in HDI\n",
    "hdi.select_dtypes('object').columns"
   ]
  },
  {
   "cell_type": "code",
   "execution_count": 16,
   "metadata": {},
   "outputs": [
    {
     "data": {
      "text/plain": [
       "Index(['country'], dtype='object')"
      ]
     },
     "execution_count": 16,
     "metadata": {},
     "output_type": "execute_result"
    }
   ],
   "source": [
    "# Checking number of object types in LE\n",
    "le.select_dtypes('object').columns"
   ]
  },
  {
   "cell_type": "code",
   "execution_count": 17,
   "metadata": {},
   "outputs": [],
   "source": [
    "# Converting object columns to float\n",
    "obj_cols = [i for i in gni.columns if (gni[i].dtype == 'object') & (i != 'country')]\n",
    "gni[obj_cols] = gni[obj_cols].applymap(lambda x: convert(x) if isinstance(x, str) else x)"
   ]
  },
  {
   "cell_type": "code",
   "execution_count": 18,
   "metadata": {},
   "outputs": [
    {
     "data": {
      "text/plain": [
       "1897    float64\n",
       "1898    float64\n",
       "1899    float64\n",
       "1900    float64\n",
       "1901    float64\n",
       "         ...   \n",
       "2046    float64\n",
       "2047    float64\n",
       "2048    float64\n",
       "2049    float64\n",
       "2050    float64\n",
       "Length: 154, dtype: object"
      ]
     },
     "execution_count": 18,
     "metadata": {},
     "output_type": "execute_result"
    }
   ],
   "source": [
    "gni[obj_cols].dtypes"
   ]
  },
  {
   "cell_type": "code",
   "execution_count": 19,
   "metadata": {},
   "outputs": [
    {
     "data": {
      "text/plain": [
       "country    0\n",
       "1800       1\n",
       "1801       1\n",
       "1802       1\n",
       "1803       1\n",
       "          ..\n",
       "2046       1\n",
       "2047       1\n",
       "2048       1\n",
       "2049       1\n",
       "2050       1\n",
       "Length: 252, dtype: int64"
      ]
     },
     "execution_count": 19,
     "metadata": {},
     "output_type": "execute_result"
    }
   ],
   "source": [
    "gni.isna().sum()"
   ]
  },
  {
   "cell_type": "code",
   "execution_count": 20,
   "metadata": {},
   "outputs": [
    {
     "data": {
      "text/plain": [
       "Index(['country'], dtype='object')"
      ]
     },
     "execution_count": 20,
     "metadata": {},
     "output_type": "execute_result"
    }
   ],
   "source": [
    "# Checking number of object types in HDI\n",
    "hdi.select_dtypes('object').columns"
   ]
  },
  {
   "cell_type": "code",
   "execution_count": 21,
   "metadata": {},
   "outputs": [
    {
     "data": {
      "text/plain": [
       "Index(['country'], dtype='object')"
      ]
     },
     "execution_count": 21,
     "metadata": {},
     "output_type": "execute_result"
    }
   ],
   "source": [
    "# Checking number of object types in LE\n",
    "le.select_dtypes('object').columns"
   ]
  },
  {
   "cell_type": "code",
   "execution_count": 22,
   "metadata": {},
   "outputs": [],
   "source": [
    "# Since the number of object columns in LE and HDI is 1, all other columns are either float or int"
   ]
  },
  {
   "cell_type": "code",
   "execution_count": 23,
   "metadata": {},
   "outputs": [
    {
     "data": {
      "text/plain": [
       "(0        907.0\n",
       " 1       3340.0\n",
       " 2      11600.0\n",
       " 3      57900.0\n",
       " 4      15500.0\n",
       "         ...   \n",
       " 186     6440.0\n",
       " 187     1730.0\n",
       " 188     9220.0\n",
       " 189     1520.0\n",
       " 190     1880.0\n",
       " Name: 2050, Length: 191, dtype: float64,\n",
       " 0      0.478\n",
       " 1      0.586\n",
       " 2      0.796\n",
       " 3      0.858\n",
       " 4      0.911\n",
       "        ...  \n",
       " 186    0.707\n",
       " 187    0.455\n",
       " 188    0.713\n",
       " 189    0.565\n",
       " 190    0.593\n",
       " Name: 2021, Length: 191, dtype: float64,\n",
       " 0      76.8\n",
       " 1      80.0\n",
       " 2      88.4\n",
       " 3       NaN\n",
       " 4      83.3\n",
       "        ... \n",
       " 190    80.8\n",
       " 191    78.0\n",
       " 192    77.7\n",
       " 193    77.1\n",
       " 194    74.4\n",
       " Name: 2100, Length: 195, dtype: float64)"
      ]
     },
     "execution_count": 23,
     "metadata": {},
     "output_type": "execute_result"
    }
   ],
   "source": [
    "# Checking last column for each dataset\n",
    "gni[gni.columns[-1]], hdi[hdi.columns[-1]], le[le.columns[-1]]\n"
   ]
  },
  {
   "cell_type": "code",
   "execution_count": 24,
   "metadata": {},
   "outputs": [
    {
     "data": {
      "text/plain": [
       "(0      207.0\n",
       " 1      517.0\n",
       " 2      207.0\n",
       " 3      738.0\n",
       " 4      794.0\n",
       "        ...  \n",
       " 186    373.0\n",
       " 187    197.0\n",
       " 188    800.0\n",
       " 189    213.0\n",
       " 190    443.0\n",
       " Name: 1800, Length: 191, dtype: float64,\n",
       " 0      0.273\n",
       " 1        NaN\n",
       " 2      0.647\n",
       " 3        NaN\n",
       " 4      0.728\n",
       "        ...  \n",
       " 186      NaN\n",
       " 187    0.383\n",
       " 188    0.632\n",
       " 189    0.412\n",
       " 190    0.509\n",
       " Name: 1990, Length: 191, dtype: float64,\n",
       " 0      28.2\n",
       " 1      27.0\n",
       " 2      35.4\n",
       " 3       NaN\n",
       " 4      30.7\n",
       "        ... \n",
       " 190    25.4\n",
       " 191    23.4\n",
       " 192    33.5\n",
       " 193    32.6\n",
       " 194    33.7\n",
       " Name: 1800, Length: 195, dtype: float64)"
      ]
     },
     "execution_count": 24,
     "metadata": {},
     "output_type": "execute_result"
    }
   ],
   "source": [
    "# Checking first column after country for each dataset\n",
    "gni[gni.columns[1]], hdi[hdi.columns[1]], le[le.columns[1]]"
   ]
  },
  {
   "cell_type": "code",
   "execution_count": 25,
   "metadata": {},
   "outputs": [],
   "source": [
    "# Since HDI columns only go upto 2021, all other datasets will be shortened for this analysis. The analysis also starts from 1990 since that is ubiquitously available\n",
    "gni_country = gni['country']\n",
    "hdi_country = hdi['country']\n",
    "le_country = le['country']\n",
    "\n",
    "gni =  gni.loc[:, '1990':'2021']\n",
    "le = le.loc[:, '1990':'2021']\n",
    "hdi = hdi.loc[:, '1990':'2021']\n",
    "\n",
    "gni['country'] = gni_country\n",
    "hdi['country'] = hdi_country\n",
    "le['country'] = le_country\n"
   ]
  },
  {
   "cell_type": "code",
   "execution_count": 26,
   "metadata": {},
   "outputs": [],
   "source": [
    "# appending the dataset name to each column to ease with merging\n",
    "\n",
    "gni = gni.rename(columns=lambda x: x + '_gni' if x != 'country' else x)\n",
    "hdi = hdi.rename(columns=lambda x: x + '_hdi' if x != 'country' else x)\n",
    "le = le.rename(columns=lambda x: x + '_le' if x != 'country' else x)"
   ]
  },
  {
   "cell_type": "code",
   "execution_count": 27,
   "metadata": {},
   "outputs": [],
   "source": [
    "merged = le.merge(hdi.merge(gni, on='country', how='outer'), on='country', how='outer')"
   ]
  },
  {
   "cell_type": "code",
   "execution_count": 28,
   "metadata": {},
   "outputs": [],
   "source": [
    "# Not dropping missing rows of data right now as relevant information gets lost. \n",
    "# merged.dropna(inplace=True)"
   ]
  },
  {
   "cell_type": "code",
   "execution_count": 29,
   "metadata": {},
   "outputs": [],
   "source": [
    "merged.to_csv('../data/merged.csv', index=False)"
   ]
  },
  {
   "cell_type": "code",
   "execution_count": 30,
   "metadata": {},
   "outputs": [],
   "source": [
    "#Code:\n",
    "\n",
    "# For dataset level summary statistics, \n",
    "\n",
    "gni_columns = [i for i in merged.columns if 'gni' in i or i == 'country']\n",
    "hdi_columns = [i for i in merged.columns if 'hdi' in i or i == 'country']\n",
    "le_columns = [i for i in merged.columns if 'le' in i or i == 'country']"
   ]
  },
  {
   "cell_type": "code",
   "execution_count": 31,
   "metadata": {},
   "outputs": [
    {
     "data": {
      "text/plain": [
       "2013_gni    15188.442105\n",
       "2014_gni    15051.478947\n",
       "2008_gni    15050.157068\n",
       "2012_gni    14724.657895\n",
       "2009_gni    14648.586387\n",
       "Name: mean, dtype: float64"
      ]
     },
     "execution_count": 31,
     "metadata": {},
     "output_type": "execute_result"
    }
   ],
   "source": [
    "# Top 5 Years with highest average Gross National Income\n",
    "merged[gni_columns].describe().T.sort_values(by='mean', ascending=False)['mean'].head(5)"
   ]
  },
  {
   "cell_type": "code",
   "execution_count": 32,
   "metadata": {},
   "outputs": [
    {
     "data": {
      "text/plain": [
       "2014_gni    6375.0\n",
       "2013_gni    6320.0\n",
       "2015_gni    6060.0\n",
       "2012_gni    6055.0\n",
       "2019_gni    5820.0\n",
       "Name: 50%, dtype: float64"
      ]
     },
     "execution_count": 32,
     "metadata": {},
     "output_type": "execute_result"
    }
   ],
   "source": [
    "# Top 5 Years with highest median Gross National Income\n",
    "merged[gni_columns].describe().T.sort_values(by='50%', ascending=False)['50%'].head(5)"
   ]
  },
  {
   "cell_type": "markdown",
   "metadata": {},
   "source": [
    "There may be some right skew in the gni data as the mean is higher than the median but further investigation is required"
   ]
  },
  {
   "cell_type": "code",
   "execution_count": 33,
   "metadata": {},
   "outputs": [
    {
     "data": {
      "text/plain": [
       "2019_hdi    0.727497\n",
       "2018_hdi    0.723927\n",
       "2020_hdi    0.721524\n",
       "2021_hdi    0.720576\n",
       "2017_hdi    0.719547\n",
       "Name: mean, dtype: float64"
      ]
     },
     "execution_count": 33,
     "metadata": {},
     "output_type": "execute_result"
    }
   ],
   "source": [
    "# Top 5 Years with highest average HDI\n",
    "merged[hdi_columns].describe().T.sort_values(by='mean', ascending=False)['mean'].head(5)"
   ]
  },
  {
   "cell_type": "code",
   "execution_count": 34,
   "metadata": {},
   "outputs": [
    {
     "data": {
      "text/plain": [
       "2019_hdi    0.7460\n",
       "2018_hdi    0.7460\n",
       "2017_hdi    0.7440\n",
       "2016_hdi    0.7415\n",
       "2021_hdi    0.7390\n",
       "Name: 50%, dtype: float64"
      ]
     },
     "execution_count": 34,
     "metadata": {},
     "output_type": "execute_result"
    }
   ],
   "source": [
    "# Top 5 Years with highest median HDI\n",
    "merged[hdi_columns].describe().T.sort_values(by='50%', ascending=False)['50%'].head(5)"
   ]
  },
  {
   "cell_type": "markdown",
   "metadata": {},
   "source": [
    "Interestingly, the median of HDI is slightly higher than the mean for all years. Could there be a left skew?"
   ]
  },
  {
   "cell_type": "code",
   "execution_count": 35,
   "metadata": {},
   "outputs": [
    {
     "data": {
      "text/plain": [
       "2021_le    73.270968\n",
       "2019_le    72.857949\n",
       "2018_le    72.632821\n",
       "2020_le    72.446237\n",
       "2017_le    72.394359\n",
       "Name: mean, dtype: float64"
      ]
     },
     "execution_count": 35,
     "metadata": {},
     "output_type": "execute_result"
    }
   ],
   "source": [
    "# Top 5 Years with highest average LE\n",
    "merged[le_columns].describe().T.sort_values(by='mean', ascending=False)['mean'].head(5)"
   ]
  },
  {
   "cell_type": "code",
   "execution_count": 36,
   "metadata": {},
   "outputs": [
    {
     "data": {
      "text/plain": [
       "2021_le    74.15\n",
       "2019_le    73.70\n",
       "2018_le    73.50\n",
       "2017_le    73.40\n",
       "2020_le    73.20\n",
       "Name: 50%, dtype: float64"
      ]
     },
     "execution_count": 36,
     "metadata": {},
     "output_type": "execute_result"
    }
   ],
   "source": [
    "# Top 5 Years with highest median LE\n",
    "merged[le_columns].describe().T.sort_values(by='50%', ascending=False)['50%'].head(5)"
   ]
  },
  {
   "cell_type": "markdown",
   "metadata": {},
   "source": [
    "Similar to HDI, there is a slight increase in median values when compared to mean values for all years."
   ]
  },
  {
   "cell_type": "code",
   "execution_count": 37,
   "metadata": {},
   "outputs": [],
   "source": [
    "# Resetting indices to start from 0\n",
    "merged.reset_index(drop=True, inplace=True)"
   ]
  },
  {
   "cell_type": "code",
   "execution_count": 38,
   "metadata": {},
   "outputs": [
    {
     "data": {
      "text/html": [
       "<div>\n",
       "<style scoped>\n",
       "    .dataframe tbody tr th:only-of-type {\n",
       "        vertical-align: middle;\n",
       "    }\n",
       "\n",
       "    .dataframe tbody tr th {\n",
       "        vertical-align: top;\n",
       "    }\n",
       "\n",
       "    .dataframe thead th {\n",
       "        text-align: right;\n",
       "    }\n",
       "</style>\n",
       "<table border=\"1\" class=\"dataframe\">\n",
       "  <thead>\n",
       "    <tr style=\"text-align: right;\">\n",
       "      <th></th>\n",
       "      <th>Afghanistan</th>\n",
       "      <th>Angola</th>\n",
       "      <th>Albania</th>\n",
       "      <th>Andorra</th>\n",
       "      <th>United Arab Emirates</th>\n",
       "      <th>Argentina</th>\n",
       "      <th>Armenia</th>\n",
       "      <th>Antigua and Barbuda</th>\n",
       "      <th>Australia</th>\n",
       "      <th>Austria</th>\n",
       "      <th>...</th>\n",
       "      <th>Vietnam</th>\n",
       "      <th>Vanuatu</th>\n",
       "      <th>Samoa</th>\n",
       "      <th>Yemen</th>\n",
       "      <th>South Africa</th>\n",
       "      <th>Zambia</th>\n",
       "      <th>Zimbabwe</th>\n",
       "      <th>UK</th>\n",
       "      <th>Liechtenstein</th>\n",
       "      <th>USA</th>\n",
       "    </tr>\n",
       "  </thead>\n",
       "  <tbody>\n",
       "    <tr>\n",
       "      <th>1990_le</th>\n",
       "      <td>53.8</td>\n",
       "      <td>49.7</td>\n",
       "      <td>72.8</td>\n",
       "      <td>79.0</td>\n",
       "      <td>68.7</td>\n",
       "      <td>72.5</td>\n",
       "      <td>70.6</td>\n",
       "      <td>74.0</td>\n",
       "      <td>77.0</td>\n",
       "      <td>76.0</td>\n",
       "      <td>...</td>\n",
       "      <td>69.2</td>\n",
       "      <td>63.1</td>\n",
       "      <td>66.9</td>\n",
       "      <td>59.1</td>\n",
       "      <td>64.2</td>\n",
       "      <td>51.9</td>\n",
       "      <td>62.4</td>\n",
       "      <td>NaN</td>\n",
       "      <td>NaN</td>\n",
       "      <td>NaN</td>\n",
       "    </tr>\n",
       "    <tr>\n",
       "      <th>1991_le</th>\n",
       "      <td>53.8</td>\n",
       "      <td>50.3</td>\n",
       "      <td>72.6</td>\n",
       "      <td>79.1</td>\n",
       "      <td>68.7</td>\n",
       "      <td>72.7</td>\n",
       "      <td>70.3</td>\n",
       "      <td>74.0</td>\n",
       "      <td>77.4</td>\n",
       "      <td>76.1</td>\n",
       "      <td>...</td>\n",
       "      <td>69.5</td>\n",
       "      <td>63.2</td>\n",
       "      <td>66.9</td>\n",
       "      <td>59.5</td>\n",
       "      <td>64.3</td>\n",
       "      <td>50.7</td>\n",
       "      <td>61.4</td>\n",
       "      <td>NaN</td>\n",
       "      <td>NaN</td>\n",
       "      <td>NaN</td>\n",
       "    </tr>\n",
       "    <tr>\n",
       "      <th>1992_le</th>\n",
       "      <td>54.2</td>\n",
       "      <td>50.3</td>\n",
       "      <td>73.2</td>\n",
       "      <td>79.2</td>\n",
       "      <td>68.8</td>\n",
       "      <td>72.8</td>\n",
       "      <td>69.4</td>\n",
       "      <td>74.0</td>\n",
       "      <td>77.6</td>\n",
       "      <td>76.3</td>\n",
       "      <td>...</td>\n",
       "      <td>69.8</td>\n",
       "      <td>63.1</td>\n",
       "      <td>67.2</td>\n",
       "      <td>59.9</td>\n",
       "      <td>63.6</td>\n",
       "      <td>49.6</td>\n",
       "      <td>59.8</td>\n",
       "      <td>NaN</td>\n",
       "      <td>NaN</td>\n",
       "      <td>NaN</td>\n",
       "    </tr>\n",
       "    <tr>\n",
       "      <th>1993_le</th>\n",
       "      <td>54.4</td>\n",
       "      <td>49.0</td>\n",
       "      <td>73.8</td>\n",
       "      <td>79.3</td>\n",
       "      <td>68.8</td>\n",
       "      <td>73.0</td>\n",
       "      <td>69.0</td>\n",
       "      <td>73.4</td>\n",
       "      <td>77.9</td>\n",
       "      <td>76.5</td>\n",
       "      <td>...</td>\n",
       "      <td>70.2</td>\n",
       "      <td>63.1</td>\n",
       "      <td>67.4</td>\n",
       "      <td>60.3</td>\n",
       "      <td>64.3</td>\n",
       "      <td>48.7</td>\n",
       "      <td>58.0</td>\n",
       "      <td>NaN</td>\n",
       "      <td>NaN</td>\n",
       "      <td>NaN</td>\n",
       "    </tr>\n",
       "    <tr>\n",
       "      <th>1994_le</th>\n",
       "      <td>53.9</td>\n",
       "      <td>50.3</td>\n",
       "      <td>74.6</td>\n",
       "      <td>79.5</td>\n",
       "      <td>68.7</td>\n",
       "      <td>73.4</td>\n",
       "      <td>69.5</td>\n",
       "      <td>73.3</td>\n",
       "      <td>78.0</td>\n",
       "      <td>76.7</td>\n",
       "      <td>...</td>\n",
       "      <td>70.5</td>\n",
       "      <td>63.2</td>\n",
       "      <td>67.5</td>\n",
       "      <td>60.5</td>\n",
       "      <td>63.4</td>\n",
       "      <td>47.7</td>\n",
       "      <td>56.2</td>\n",
       "      <td>NaN</td>\n",
       "      <td>NaN</td>\n",
       "      <td>NaN</td>\n",
       "    </tr>\n",
       "  </tbody>\n",
       "</table>\n",
       "<p>5 rows × 198 columns</p>\n",
       "</div>"
      ],
      "text/plain": [
       "        Afghanistan Angola Albania Andorra United Arab Emirates Argentina  \\\n",
       "1990_le        53.8   49.7    72.8    79.0                 68.7      72.5   \n",
       "1991_le        53.8   50.3    72.6    79.1                 68.7      72.7   \n",
       "1992_le        54.2   50.3    73.2    79.2                 68.8      72.8   \n",
       "1993_le        54.4   49.0    73.8    79.3                 68.8      73.0   \n",
       "1994_le        53.9   50.3    74.6    79.5                 68.7      73.4   \n",
       "\n",
       "        Armenia Antigua and Barbuda Australia Austria  ... Vietnam Vanuatu  \\\n",
       "1990_le    70.6                74.0      77.0    76.0  ...    69.2    63.1   \n",
       "1991_le    70.3                74.0      77.4    76.1  ...    69.5    63.2   \n",
       "1992_le    69.4                74.0      77.6    76.3  ...    69.8    63.1   \n",
       "1993_le    69.0                73.4      77.9    76.5  ...    70.2    63.1   \n",
       "1994_le    69.5                73.3      78.0    76.7  ...    70.5    63.2   \n",
       "\n",
       "        Samoa Yemen South Africa Zambia Zimbabwe   UK Liechtenstein  USA  \n",
       "1990_le  66.9  59.1         64.2   51.9     62.4  NaN           NaN  NaN  \n",
       "1991_le  66.9  59.5         64.3   50.7     61.4  NaN           NaN  NaN  \n",
       "1992_le  67.2  59.9         63.6   49.6     59.8  NaN           NaN  NaN  \n",
       "1993_le  67.4  60.3         64.3   48.7     58.0  NaN           NaN  NaN  \n",
       "1994_le  67.5  60.5         63.4   47.7     56.2  NaN           NaN  NaN  \n",
       "\n",
       "[5 rows x 198 columns]"
      ]
     },
     "execution_count": 38,
     "metadata": {},
     "output_type": "execute_result"
    }
   ],
   "source": [
    "# Transposing dataset if different analysis is required\n",
    "t_merged = merged.T\n",
    "t_merged.columns = merged.T[merged.T.index == 'country'].values[0]\n",
    "t_merged.drop(index='country', inplace=True)\n",
    "t_merged.head()"
   ]
  },
  {
   "cell_type": "code",
   "execution_count": 39,
   "metadata": {},
   "outputs": [
    {
     "data": {
      "text/plain": [
       "Liechtenstein    112365.00000\n",
       "Switzerland       81087.50000\n",
       "Luxembourg        79878.12500\n",
       "Norway            77071.87500\n",
       "Denmark           59237.46875\n",
       "dtype: float64"
      ]
     },
     "execution_count": 39,
     "metadata": {},
     "output_type": "execute_result"
    }
   ],
   "source": [
    "# Top 5 Country wise average Gross National Income\n",
    "t_merged.loc[t_merged.index.str.contains('gni'), ].mean().sort_values(ascending=False).head()"
   ]
  },
  {
   "cell_type": "code",
   "execution_count": 40,
   "metadata": {},
   "outputs": [
    {
     "data": {
      "text/plain": [
       "Burundi             250.62500\n",
       "Somalia             346.53125\n",
       "Congo, Dem. Rep.    353.65625\n",
       "Malawi              388.68750\n",
       "Liberia             409.09375\n",
       "dtype: float64"
      ]
     },
     "execution_count": 40,
     "metadata": {},
     "output_type": "execute_result"
    }
   ],
   "source": [
    "# Bottom 5 Country wise average Gross National Income\n",
    "t_merged.loc[t_merged.index.str.contains('gni'), ].mean().sort_values().head()"
   ]
  },
  {
   "cell_type": "markdown",
   "metadata": {},
   "source": [
    "Huge discrepency in GNI between highest and lowest"
   ]
  },
  {
   "cell_type": "code",
   "execution_count": 41,
   "metadata": {},
   "outputs": [
    {
     "data": {
      "text/plain": [
       "Norway           0.918812\n",
       "Liechtenstein    0.913955\n",
       "Switzerland      0.911188\n",
       "Australia        0.909406\n",
       "Germany          0.904687\n",
       "dtype: float64"
      ]
     },
     "execution_count": 41,
     "metadata": {},
     "output_type": "execute_result"
    }
   ],
   "source": [
    "# Top 5 Country wise average HDI\n",
    "t_merged.loc[t_merged.index.str.contains('hdi'), ].mean().sort_values(ascending=False).head()"
   ]
  },
  {
   "cell_type": "code",
   "execution_count": 42,
   "metadata": {},
   "outputs": [
    {
     "data": {
      "text/plain": [
       "Niger                       0.306781\n",
       "Mozambique                  0.352281\n",
       "Mali                        0.353812\n",
       "Burundi                     0.354656\n",
       "Central African Republic    0.354719\n",
       "dtype: float64"
      ]
     },
     "execution_count": 42,
     "metadata": {},
     "output_type": "execute_result"
    }
   ],
   "source": [
    "# Bottom 5 Country wise average HDI\n",
    "t_merged.loc[t_merged.index.str.contains('hdi'), ].mean().sort_values().head()"
   ]
  },
  {
   "cell_type": "markdown",
   "metadata": {},
   "source": [
    "The lowest HDI is a third of the highest HDI"
   ]
  },
  {
   "cell_type": "code",
   "execution_count": 43,
   "metadata": {},
   "outputs": [
    {
     "data": {
      "text/plain": [
       "Japan               82.468750\n",
       "Hong Kong, China    81.537500\n",
       "Switzerland         81.478125\n",
       "San Marino          81.420000\n",
       "Iceland             81.415625\n",
       "dtype: float64"
      ]
     },
     "execution_count": 43,
     "metadata": {},
     "output_type": "execute_result"
    }
   ],
   "source": [
    "# Top 5 Country wise average LE\n",
    "t_merged.loc[t_merged.index.str.contains('le'), ].mean().sort_values(ascending=False).head()"
   ]
  },
  {
   "cell_type": "code",
   "execution_count": 44,
   "metadata": {},
   "outputs": [
    {
     "data": {
      "text/plain": [
       "Central African Republic    47.062500\n",
       "Lesotho                     50.709375\n",
       "Eswatini                    52.818750\n",
       "Zambia                      53.062500\n",
       "Burundi                     53.309375\n",
       "dtype: float64"
      ]
     },
     "execution_count": 44,
     "metadata": {},
     "output_type": "execute_result"
    }
   ],
   "source": [
    "# Bottom 5 Country wise average LE\n",
    "t_merged.loc[t_merged.index.str.contains('le'), ].mean().sort_values().head()"
   ]
  },
  {
   "cell_type": "markdown",
   "metadata": {},
   "source": [
    "A difference of an average of 35 years in LE is present between the highest and lowest"
   ]
  },
  {
   "cell_type": "code",
   "execution_count": 45,
   "metadata": {},
   "outputs": [
    {
     "data": {
      "text/plain": [
       "Rwanda                59.7\n",
       "Haiti                 31.9\n",
       "Ethiopia              22.7\n",
       "Burundi               21.5\n",
       "Malawi                20.1\n",
       "                      ... \n",
       "Fiji                   2.8\n",
       "Barbados               2.7\n",
       "Montenegro             2.5\n",
       "Dominican Republic     1.9\n",
       "Paraguay               1.7\n",
       "Length: 186, dtype: object"
      ]
     },
     "execution_count": 45,
     "metadata": {},
     "output_type": "execute_result"
    }
   ],
   "source": [
    "# Highest to lowest differences in LE \n",
    "(t_merged.loc[t_merged.index.str.contains('le')].dropna(axis=1).max() - t_merged.loc[t_merged.index.str.contains('le')].dropna(axis=1).min()).sort_values(ascending=False)"
   ]
  },
  {
   "cell_type": "markdown",
   "metadata": {},
   "source": [
    "The biggest difference in LE by country. Since the most recent LE at 2021 may not necessarily be the highest LE, this metric shows the highest possible difference that a country has achieved with respect to LE"
   ]
  },
  {
   "cell_type": "code",
   "execution_count": 46,
   "metadata": {},
   "outputs": [
    {
     "data": {
      "text/plain": [
       "China         0.284\n",
       "Bangladesh    0.267\n",
       "Myanmar       0.267\n",
       "Turkey        0.242\n",
       "Morocco       0.236\n",
       "              ...  \n",
       "Barbados      0.074\n",
       "Brunei        0.068\n",
       "Jamaica        0.06\n",
       "USA           0.058\n",
       "St. Lucia     0.056\n",
       "Length: 141, dtype: object"
      ]
     },
     "execution_count": 46,
     "metadata": {},
     "output_type": "execute_result"
    }
   ],
   "source": [
    "# Highest to lowest differences in HDI \n",
    "(t_merged.loc[t_merged.index.str.contains('hdi')].dropna(axis=1).max() - t_merged.loc[t_merged.index.str.contains('hdi')].dropna(axis=1).min()).sort_values(ascending=False)"
   ]
  },
  {
   "cell_type": "markdown",
   "metadata": {},
   "source": [
    "The biggest difference in HDI by country. Since the most recent HDI at 2021 may not necessarily be the highest HDI, this metric shows the highest possible difference that a country has achieved with respect to HDI"
   ]
  },
  {
   "cell_type": "code",
   "execution_count": 47,
   "metadata": {},
   "outputs": [
    {
     "data": {
      "text/plain": [
       "Norway              69100.0\n",
       "Qatar               62200.0\n",
       "Kuwait              52900.0\n",
       "Luxembourg          49400.0\n",
       "Iceland             48700.0\n",
       "                     ...   \n",
       "Congo, Dem. Rep.      382.0\n",
       "Malawi                374.0\n",
       "Somalia               274.0\n",
       "Burundi               241.0\n",
       "Madagascar            175.0\n",
       "Length: 190, dtype: object"
      ]
     },
     "execution_count": 47,
     "metadata": {},
     "output_type": "execute_result"
    }
   ],
   "source": [
    "# Highest to lowest differences in GNI \n",
    "(t_merged.loc[t_merged.index.str.contains('gni')].dropna(axis=1).max() - t_merged.loc[t_merged.index.str.contains('gni')].dropna(axis=1).min()).sort_values(ascending=False)"
   ]
  },
  {
   "cell_type": "markdown",
   "metadata": {},
   "source": [
    "The biggest difference in GNI by country. Since the most recent GNI at 2021 may not necessarily be the highest GNI, this metric shows the highest possible difference that a country has achieved with respect to GNI"
   ]
  },
  {
   "cell_type": "code",
   "execution_count": 48,
   "metadata": {},
   "outputs": [],
   "source": [
    "# Code\n",
    "\n",
    "# Making the country column the index of the dataset for easier analysis\n",
    "n_merged = merged.set_index('country')\n",
    "\n",
    "# Removing the country from each of these lists so they only reference float columns\n",
    "for i in [gni_columns, le_columns, hdi_columns]:\n",
    "    i.remove('country')"
   ]
  },
  {
   "cell_type": "code",
   "execution_count": 49,
   "metadata": {},
   "outputs": [],
   "source": [
    "# How does the average Life expectancy and Gross National Income correlate with average Human Developement Index?\n",
    "\n",
    "# Creating a new datafram to analyze averages of hdi, le and gni grouped by countries\n",
    "avg_per_country = pd.DataFrame()\n",
    "avg_per_country['country'] = n_merged.dropna().index\n",
    "\n",
    "# Dropping records that have missing values\n",
    "avg_per_country.loc[:, \"gni\"] = n_merged.dropna()[gni_columns].mean(axis=1).values\n",
    "avg_per_country['hdi'] = n_merged.dropna()[hdi_columns].mean(axis=1).values\n",
    "avg_per_country['le'] = n_merged.dropna()[le_columns].mean(axis=1).values\n",
    "\n",
    "avg_per_country.set_index('country', inplace=True)"
   ]
  },
  {
   "cell_type": "code",
   "execution_count": 50,
   "metadata": {},
   "outputs": [],
   "source": [
    "# Creating correlation matrix\n",
    "avg_cor = avg_per_country.corr()"
   ]
  },
  {
   "cell_type": "code",
   "execution_count": 51,
   "metadata": {},
   "outputs": [
    {
     "data": {
      "text/plain": [
       "<Axes: title={'center': 'Correlation Matrix of Average Life Expectancy, Gross National Income and Human Development Index'}>"
      ]
     },
     "execution_count": 51,
     "metadata": {},
     "output_type": "execute_result"
    },
    {
     "data": {
      "image/png": "[encoded data removed]",
      "text/plain": [
       "<Figure size 600x600 with 2 Axes>"
      ]
     },
     "metadata": {},
     "output_type": "display_data"
    }
   ],
   "source": [
    "# Plotting cor matrix\n",
    "plt.figure(figsize=(6,6))\n",
    "plt.title(\"Correlation Matrix of Average Life Expectancy, Gross National Income and Human Development Index\")\n",
    "mask = np.triu(np.ones_like(avg_cor, dtype=bool))\n",
    "sns.heatmap(avg_cor, mask=mask, annot=True, fmt='.2f', cmap='coolwarm_r', vmin=-1, vmax=1)\n"
   ]
  },
  {
   "cell_type": "markdown",
   "metadata": {},
   "source": [
    "There seems to be a strong positive correlation between HDI and GNI, and between HDI and LE."
   ]
  },
  {
   "cell_type": "code",
   "execution_count": 52,
   "metadata": {},
   "outputs": [
    {
     "data": {
      "image/png": "[encoded data removed]",
      "text/plain": [
       "<Figure size 1500x500 with 3 Axes>"
      ]
     },
     "metadata": {},
     "output_type": "display_data"
    }
   ],
   "source": [
    "# Histograms\n",
    "fig, ax = plt.subplots(1,3,figsize=(15,5))\n",
    "fig.suptitle(\"Histograms of Average Life Expectancy, Gross National Income and Human Development Index\")\n",
    "for plot, column in zip(ax, ['gni','le','hdi']):\n",
    "    sns.histplot(data=avg_per_country, x=column, ax=plot, bins=15)\n",
    "    plot.set_xlabel(f\"{column} value\")\n",
    "    plot.set_ylabel(f\"Frequency of {column}\")\n",
    "plt.show()"
   ]
  },
  {
   "cell_type": "markdown",
   "metadata": {},
   "source": [
    "Most countries have an average GNI value <20000. Also the GNI data seems to be right-skewed.\n",
    "\n",
    "Distributions of LE and HDI are similar."
   ]
  },
  {
   "cell_type": "code",
   "execution_count": 53,
   "metadata": {},
   "outputs": [
    {
     "data": {
      "image/png": "[encoded data removed]",
      "text/plain": [
       "<Figure size 1500x500 with 3 Axes>"
      ]
     },
     "metadata": {},
     "output_type": "display_data"
    }
   ],
   "source": [
    "# Boxplots\n",
    "fig, ax = plt.subplots(1,3,figsize=(15,5))\n",
    "fig.suptitle(\"Boxplots of Average Life Expectancy, Gross National Income and Human Development Index\")\n",
    "for plot, column in zip(ax, ['gni','le','hdi']):\n",
    "    sns.boxplot(data=avg_per_country, x=column, ax=plot)\n",
    "    plot.set_xlabel(f\"{column} value\")\n",
    "plt.show()"
   ]
  },
  {
   "cell_type": "markdown",
   "metadata": {},
   "source": [
    "Large number of outliers in the GNI dataset, with no outliers in other datasets."
   ]
  },
  {
   "cell_type": "code",
   "execution_count": 54,
   "metadata": {},
   "outputs": [
    {
     "data": {
      "image/png": "[encoded data removed]",
      "text/plain": [
       "<Figure size 1000x600 with 1 Axes>"
      ]
     },
     "metadata": {},
     "output_type": "display_data"
    }
   ],
   "source": [
    "plt.figure(figsize=(10,6))\n",
    "plt.title('Scatter plot between Gross National Income and Human Developement Index')\n",
    "plt.scatter(n_merged[gni_columns], n_merged[hdi_columns])\n",
    "plt.xlabel('Gross National Income')\n",
    "plt.ylabel('Human Developement Index')\n",
    "plt.show()"
   ]
  },
  {
   "cell_type": "markdown",
   "metadata": {},
   "source": [
    "There seems to be an exponential increase in HDI when GNI increases till 25000, after which there is a more linear increase."
   ]
  },
  {
   "cell_type": "code",
   "execution_count": 55,
   "metadata": {},
   "outputs": [
    {
     "data": {
      "image/png": "[encoded data removed]",
      "text/plain": [
       "<Figure size 1000x600 with 1 Axes>"
      ]
     },
     "metadata": {},
     "output_type": "display_data"
    }
   ],
   "source": [
    "plt.figure(figsize=(10,6))\n",
    "plt.title('Scatter plot between Life Expectancy and Human Developement Index')\n",
    "plt.scatter(n_merged[le_columns], n_merged[hdi_columns])\n",
    "plt.xlabel('Life Expectancy')\n",
    "plt.ylabel('Human Developement Index')\n",
    "plt.show()"
   ]
  },
  {
   "cell_type": "markdown",
   "metadata": {},
   "source": [
    "There seems to be a linear relationship between Life Expectancy and HDI."
   ]
  },
  {
   "cell_type": "markdown",
   "metadata": {},
   "source": [
    "### Conclusions\n",
    "From the analysis, we can draw the following conclusions:\n",
    "- There is a positive correlation between Gross National Income and Human Developement Index.\n",
    "- There is a positive correlation between Life Expectancy and Human Developement Index.\n",
    "- Island countries like Fiji and Barbados did not have a wide range of life expectancy.\n",
    "- Many African countries have a low Human Developement Index, supported by low levels of Life Expectancy and Gross National Income.\n",
    "- European countries have a higher Human Developement Index, supported by high levels of Life Expectancy and Gross National Income.\n",
    "\n",
    "\n",
    "### Recommendations\n",
    "Based on the analysis, we can make the following recommendations:\n",
    "- Focus on improving the HDI of African countries by positively influencing their Gross National Income and Life Expectancy.\n",
    "- Include datasets that support the HDI apart from GNI and LE such as Population, Education, and Health.\n",
    "- Conduct a deeper analysis of European countries to understand their HDI performance."
   ]
  },
  {
   "cell_type": "markdown",
   "metadata": {},
   "source": []
  }
 ],
 "metadata": {
  "anaconda-cloud": {},
  "kernelspec": {
   "display_name": "Python 3 (ipykernel)",
   "language": "python",
   "name": "python3"
  },
  "language_info": {
   "codemirror_mode": {
    "name": "ipython",
    "version": 3
   },
   "file_extension": ".py",
   "mimetype": "text/x-python",
   "name": "python",
   "nbconvert_exporter": "python",
   "pygments_lexer": "ipython3",
   "version": "3.10.12"
  }
 },
 "nbformat": 4,
 "nbformat_minor": 4
}
