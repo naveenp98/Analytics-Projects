{
 "cells": [
  {
   "cell_type": "code",
   "execution_count": null,
   "metadata": {},
   "outputs": [],
   "source": [
    "# Creating dataframce to hold garage and building year built\n",
    "# difference_in_built=train.loc[~(train['Year Built'] == train['Garage Yr Blt']), ['Garage Yr Blt', 'Year Built']]"
   ]
  },
  {
   "cell_type": "code",
   "execution_count": null,
   "metadata": {},
   "outputs": [],
   "source": [
    "# Finding difference in years\n",
    "# difference_in_built.loc[:,'Difference'] = difference_in_built.loc[:,'Garage Yr Blt'] - difference_in_built.loc[:,'Year Built']"
   ]
  },
  {
   "cell_type": "code",
   "execution_count": null,
   "metadata": {},
   "outputs": [],
   "source": [
    "# Finding mean and median\n",
    "# difference_in_built['Difference'].describe()"
   ]
  },
  {
   "cell_type": "code",
   "execution_count": null,
   "metadata": {},
   "outputs": [],
   "source": [
    "# Plotting histogram of difference\n",
    "# plt.figure(figsize=(10, 5))\n",
    "# sns.histplot(difference_in_built['Difference'])"
   ]
  },
  {
   "cell_type": "code",
   "execution_count": null,
   "metadata": {},
   "outputs": [],
   "source": [
    "#Using mean to impute Garage Yr Blt\n",
    "# train.loc[train['Garage Yr Blt'].isna(), 'Garage Yr Blt'] = difference_in_built['Difference'].describe()['mean'] + train['Year Built']"
   ]
  },
  {
   "cell_type": "code",
   "execution_count": null,
   "metadata": {},
   "outputs": [],
   "source": [
    "# Checking how the distribution is for Garage Yr Blt\n",
    "# plt.figure(figsize=(10, 5))\n",
    "# sns.histplot(train['Garage Yr Blt'])"
   ]
  },
  {
   "cell_type": "code",
   "execution_count": null,
   "metadata": {},
   "outputs": [],
   "source": [
    "# Finding all records that have a difference in the year the house was built and garage was built\n",
    "# difference_in_built=test.loc[~(test['Year Built'] == test['Garage Yr Blt']), ['Garage Yr Blt', 'Year Built']]"
   ]
  },
  {
   "cell_type": "code",
   "execution_count": null,
   "metadata": {},
   "outputs": [],
   "source": [
    "# Calculating the difference between the two columns\n",
    "# difference_in_built.loc[:,'Difference'] = difference_in_built.loc[:,'Garage Yr Blt'] - difference_in_built.loc[:,'Year Built']"
   ]
  },
  {
   "cell_type": "code",
   "execution_count": null,
   "metadata": {},
   "outputs": [],
   "source": [
    "# Imputing the mean + the year the house was built\n",
    "# test.loc[test['Garage Yr Blt'].isna(), 'Garage Yr Blt'] = difference_in_built['Difference'].describe()['mean'] + test['Year Built']"
   ]
  },
  {
   "cell_type": "code",
   "execution_count": null,
   "metadata": {},
   "outputs": [],
   "source": [
    "# Dropping columns that are not normally distributed or unnecessary\n",
    "# for i in ['Year Remod/Add', 'Year Built', 'BsmtFin SF 1', 'Mas Vnr Area']:\n",
    "#     cols_selected.remove(i)"
   ]
  }
 ],
 "metadata": {
  "language_info": {
   "name": "python"
  }
 },
 "nbformat": 4,
 "nbformat_minor": 2
}
